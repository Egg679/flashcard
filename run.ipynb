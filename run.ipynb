{
 "cells": [
  {
   "cell_type": "code",
   "execution_count": null,
   "id": "47537d21-b6cf-4ac9-ac48-261e6972a8ce",
   "metadata": {
    "tags": []
   },
   "outputs": [],
   "source": [
    "from os import getenv\n",
    "from pathlib import Path\n",
    "\n",
    "input_folder = Path(getenv(\n",
    "    'CROSSCOMPUTE_INPUT_FOLDER', 'batches/standard/input'))\n",
    "output_folder = Path(getenv(\n",
    "    'CROSSCOMPUTE_OUTPUT_FOLDER', 'batches/standard/output'))"
   ]
  },
  {
   "cell_type": "code",
   "execution_count": null,
   "id": "17077b7a-1243-4838-91d4-07ffb2e5f392",
   "metadata": {
    "tags": []
   },
   "outputs": [],
   "source": [
    "with (input_folder / 'dummydata.csv').open('rt') as f:\n",
    "    lines = f.read().splitlines()\n",
    "    # names = f.readlines()"
   ]
  },
  {
   "cell_type": "code",
   "execution_count": null,
   "id": "38e1560b-0121-42c0-af9d-f1e994938caf",
   "metadata": {},
   "outputs": [],
   "source": [
    "cards = []"
   ]
  },
  {
   "cell_type": "code",
   "execution_count": null,
   "id": "c758d41c-cb08-4850-baff-0c7b7203eb55",
   "metadata": {},
   "outputs": [],
   "source": [
    "for line in lines:\n",
    "    cards.append(line.split(','))\n"
   ]
  },
  {
   "cell_type": "code",
   "execution_count": null,
   "id": "64508f25-c9e6-40d1-b2e9-be7bd278af3a",
   "metadata": {},
   "outputs": [
    {
     "data": {
      "text/plain": [
       "[['Terry', '2'],\n",
       " ['Dixie', '3'],\n",
       " ['Alex', 'Spider'],\n",
       " ['Nina', 'Mango'],\n",
       " ['Gloria', '17']]"
      ]
     },
     "execution_count": 24,
     "metadata": {},
     "output_type": "execute_result"
    }
   ],
   "source": [
    "cards"
   ]
  },
  {
   "cell_type": "code",
   "execution_count": null,
   "id": "8092c3ee-267c-48fe-8bc1-908e5a0b4f63",
   "metadata": {},
   "outputs": [],
   "source": [
    "import json\n",
    "with open(output_folder / 'cards.json', 'wt') as f:\n",
    "    json.dump(cards, f)"
   ]
  }
 ],
 "metadata": {
  "kernelspec": {
   "display_name": "Python 3 (ipykernel)",
   "language": "python",
   "name": "python3"
  },
  "language_info": {
   "codemirror_mode": {
    "name": "ipython",
    "version": 3
   },
   "file_extension": ".py",
   "mimetype": "text/x-python",
   "name": "python",
   "nbconvert_exporter": "python",
   "pygments_lexer": "ipython3",
   "version": "3.10.8"
  }
 },
 "nbformat": 4,
 "nbformat_minor": 5
}
